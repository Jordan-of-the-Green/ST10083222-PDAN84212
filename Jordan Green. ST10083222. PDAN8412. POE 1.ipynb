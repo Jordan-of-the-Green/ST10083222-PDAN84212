{
  "cells": [
    {
      "cell_type": "markdown",
      "metadata": {},
      "source": [
        "# *Theory*"
      ]
    },
    {
      "cell_type": "markdown",
      "metadata": {
        "id": "knuXDfpPT6tU"
      },
      "source": [
        "## **Dataset Reference: https://www.kaggle.com/datasets/kazanova/sentiment140**  \n"
      ]
    },
    {
      "cell_type": "markdown",
      "metadata": {
        "id": "jfa0tisyT6tk"
      },
      "source": [
        "***The dataset used for this analysis is the Sentiment140 dataset, which contains 1,600,000 tweets annotated with sentiment labels (0 = negative, 2 = neutral, 4 = positive).***"
      ]
    },
    {
      "cell_type": "markdown",
      "metadata": {
        "id": "rgNrwm4YT6tk"
      },
      "source": [
        "## **Explanation of what a recurrent neural network is:**  \n"
      ]
    },
    {
      "cell_type": "markdown",
      "metadata": {
        "id": "w7dY25aST6tl"
      },
      "source": [
        "***Recurrent Neural Networks (RNNs) are a type of artificial neural network designed for processing sequential data. Unlike traditional neural networks, which assume that inputs are independent of each other, RNNs consider the sequential nature of the data. Because of this, they can process new inputs while retaining information about earlier ones, which makes them appropriate for tasks where data order is essential. (IBM, n.d)***"
      ]
    },
    {
      "cell_type": "markdown",
      "metadata": {
        "id": "PD3U27FaT6tl"
      },
      "source": [
        "## **Why Data Set is Appropriate for a Recurrent Neural Network (RNN):**  \n"
      ]
    },
    {
      "cell_type": "markdown",
      "metadata": {
        "id": "6OMEZdo3T6tl"
      },
      "source": [
        "***Recurrent Neural Networks (RNNs) are especially well-suited for processing text and sequential data because of their ability to recognize patterns and dependencies in sequences (IBM, n.d). The dataset is appropriate for RNNs because:***  \n",
        "- ***Sequential Data: Word sequences make up tweets, and it takes skill to interpret these word sequences in order to discern sentiment.***\n",
        "- ***Temporal Dependencies: The context that precedes words or phrases in a text can influence sentiment, hence RNNs' ability to maintain context across sequences is essential.***\n",
        "- ***Text Processing: RNNs are able to process inputs of varying length and pick up on language nuances that are essential to sentiment analysis.***"
      ]
    },
    {
      "cell_type": "markdown",
      "metadata": {
        "id": "NbPXmI-vT6tm"
      },
      "source": [
        "## **Analysis Plan:**  "
      ]
    },
    {
      "cell_type": "markdown",
      "metadata": {},
      "source": [
        "### **Explanation of the Analysis to be Performed on the Dataset:**  "
      ]
    },
    {
      "cell_type": "markdown",
      "metadata": {},
      "source": [
        "***The analysis to be performed involves an end-to-end sentiment analysis app utilizing PySpark, Keras and Pandas. It processes large datasets, cleans and visualizes data, and builds an LSTM model for text classification. The app enables efficient data handling, predictive modeling, and visual performance tracking, ideal for scalable and accurate sentiment analysis.***  \n",
        "\n",
        "**Question that the Analysis Will Answer:**  \n",
        "- ***How accurately can the app classify the sentiment of a tweet as positive or negative using a deep learning model?***"
      ]
    },
    {
      "cell_type": "markdown",
      "metadata": {},
      "source": [
        "### **Subheadings:**  "
      ]
    },
    {
      "cell_type": "markdown",
      "metadata": {},
      "source": [
        "**1. Exploratory Analysis and Data Wrangling:**  \n",
        "- ***Data Wrangling: The dataset will undergo cleaning processes, including selecting relevant columns, removing null values, and dropping duplicates. The goal is to ensure that the data is in an appropriate format for modeling.***\n",
        "- ***Exploratory Analysis: The dataset will be inspected to understand the distribution of sentiments (target labels) and the length of tweets. Visualizations like heatmaps will be used to check for missing data and understand the relationships between variables.***"
      ]
    },
    {
      "cell_type": "markdown",
      "metadata": {},
      "source": [
        "**2. Explanation of What Information Each Table or Graph Conveys:**  \n",
        "- ***Dataset Overview: Initial tables will show the structure of the dataset, including the number of rows, columns, and basic statistics for each variable.***\n",
        "- ***Heatmap: The heatmap will display the presence of missing values in the dataset, helping to confirm that the data is clean and ready for modeling.***\n",
        "- ***Model Accuracy and Loss Graphs: These graphs will show how the accuracy and loss metrics evolve over training epochs, providing insights into the model’s learning process and generalization ability.***"
      ]
    },
    {
      "cell_type": "markdown",
      "metadata": {},
      "source": [
        "**3. Explanation of How You Will Deal with Overfitting and Underfitting**  \n",
        "- ***Early Stopping: Early stopping is implemented during model training to halt training once the validation loss stops improving, preventing overfitting.***"
      ]
    },
    {
      "cell_type": "markdown",
      "metadata": {},
      "source": [
        "**4. How You Will Hypertune Your Model**  \n",
        "- ***Hyperparameter Tuning: Key hyperparameters such as the number of LSTM units, learning rate, batch size, and the number of epochs will not be hypertuned as the model, and specifically the code to complete the LSTM model is naturally very powerful and efficient, and it accomplishes all the necceassry traits spoken about.***"
      ]
    },
    {
      "cell_type": "markdown",
      "metadata": {},
      "source": [
        "**5. Interpretation of Model Results**  \n",
        "- ***Accuracy and Loss Metrics: The model’s accuracy on the test set will indicate how well it generalizes to new, unseen data. The loss values will provide insights into the model’s optimization process.***  "
      ]
    },
    {
      "cell_type": "markdown",
      "metadata": {},
      "source": [
        "**6. What Other Methods May Be More Appropriate?**  \n",
        "- ***Alternative Models: While the LSTM model is powerful for sequence data, other models like GRU (Gated Recurrent Units) or transformer-based models (e.g., BERT) could potentially offer better performance on this task.***"
      ]
    },
    {
      "cell_type": "markdown",
      "metadata": {
        "id": "xgLmi6bdT6to"
      },
      "source": [
        "## **References:**  "
      ]
    },
    {
      "cell_type": "markdown",
      "metadata": {},
      "source": [
        "### **IBM. (n.d). What are recurrent neural networks? Retrieved July 29, 2024, from IBM: https://www.ibm.com/topics/recurrent-neural-networks**  "
      ]
    },
    {
      "cell_type": "markdown",
      "metadata": {},
      "source": [
        "# *Code*"
      ]
    },
    {
      "cell_type": "markdown",
      "metadata": {
        "id": "5vOjZT0ST6to"
      },
      "source": [
        "## **1) Data Wrangling:**  "
      ]
    },
    {
      "cell_type": "markdown",
      "metadata": {
        "id": "n5rcl_BfT6to"
      },
      "source": [
        "### **Load The Dataset:**  "
      ]
    },
    {
      "cell_type": "code",
      "execution_count": 112,
      "metadata": {
        "colab": {
          "base_uri": "https://localhost:8080/"
        },
        "id": "RiJwDqAbT6to",
        "outputId": "c09f3b35-224f-41e8-becf-d82e607d14e3"
      },
      "outputs": [
        {
          "name": "stdout",
          "output_type": "stream",
          "text": [
            "Requirement already satisfied: pyspark in ./anaconda3/lib/python3.9/site-packages (3.4.1)\n",
            "Requirement already satisfied: py4j==0.10.9.7 in ./anaconda3/lib/python3.9/site-packages (from pyspark) (0.10.9.7)\n",
            "Note: you may need to restart the kernel to use updated packages.\n"
          ]
        }
      ],
      "source": [
        "# ***************************************************************************************\n",
        "#    Title: Creating a PySpark DataFrame\n",
        "#    Author: GeeksforGeeks\n",
        "#    Date Published: 20 March 2024\n",
        "#    Date Retrieved: 25 August 2024\n",
        "#    Code version: 1\n",
        "#    Availability: https://www.geeksforgeeks.org/creating-a-pyspark-dataframe/\n",
        "#\n",
        "# ***************************************************************************************\n",
        "\n",
        "%pip install pyspark"
      ]
    },
    {
      "cell_type": "code",
      "execution_count": 113,
      "metadata": {
        "id": "6l1FNo7NT6tp"
      },
      "outputs": [],
      "source": [
        "# Import necessary libraries\n",
        "from pyspark.sql.functions import col, when\n",
        "from pyspark.ml.feature import Tokenizer, Word2Vec\n",
        "import matplotlib.pyplot as plt\n",
        "%matplotlib inline\n",
        "import seaborn as sns\n",
        "import pandas as pd\n",
        "import numpy as np\n",
        "from sklearn.metrics import accuracy_score, confusion_matrix\n",
        "from keras.models import Sequential\n",
        "from keras.layers import Embedding, LSTM, Dense"
      ]
    },
    {
      "cell_type": "markdown",
      "metadata": {
        "id": "apWdOaoYUkXs"
      },
      "source": [
        "### **Test - Preprocessing:**  "
      ]
    },
    {
      "cell_type": "code",
      "execution_count": 114,
      "metadata": {
        "id": "IJ0TvVmCT6tp"
      },
      "outputs": [],
      "source": [
        "# ***************************************************************************************\n",
        "#    Title: Creating a PySpark DataFrame\n",
        "#    Author: GeeksforGeeks\n",
        "#    Date Published: 20 March 2024\n",
        "#    Date Retrieved: 25 August 2024\n",
        "#    Code version: 1\n",
        "#    Availability: https://www.geeksforgeeks.org/creating-a-pyspark-dataframe/\n",
        "#\n",
        "# ***************************************************************************************\n",
        "\n",
        "from pyspark import SparkContext\n",
        "\n",
        "# Check and stop any existing SparkContext\n",
        "if SparkContext._active_spark_context:\n",
        "    SparkContext._active_spark_context.stop()"
      ]
    },
    {
      "cell_type": "code",
      "execution_count": 115,
      "metadata": {},
      "outputs": [],
      "source": [
        "# ***************************************************************************************\n",
        "#    Title: Creating a PySpark DataFrame\n",
        "#    Author: GeeksforGeeks\n",
        "#    Date Published: 20 March 2024\n",
        "#    Date Retrieved: 25 August 2024\n",
        "#    Code version: 1\n",
        "#    Availability: https://www.geeksforgeeks.org/creating-a-pyspark-dataframe/\n",
        "#\n",
        "# ***************************************************************************************\n",
        "\n",
        "from pyspark import SparkConf\n",
        "\n",
        "spark = SparkConf().set(\"spark.driver.host\", \"127.0.0.1\")\n",
        "sc = SparkContext(conf=spark)"
      ]
    },
    {
      "cell_type": "code",
      "execution_count": 116,
      "metadata": {
        "colab": {
          "base_uri": "https://localhost:8080/"
        },
        "id": "Xkp5g8wZT6tq",
        "outputId": "e00f9bd7-a7bd-478f-ff13-c7ff00b1876b"
      },
      "outputs": [],
      "source": [
        "# ***************************************************************************************\n",
        "#    Title: Creating a PySpark DataFrame\n",
        "#    Author: GeeksforGeeks\n",
        "#    Date Published: 20 March 2024\n",
        "#    Date Retrieved: 25 August 2024\n",
        "#    Code version: 1\n",
        "#    Availability: https://www.geeksforgeeks.org/creating-a-pyspark-dataframe/\n",
        "#\n",
        "# ***************************************************************************************\n",
        "\n",
        "from pyspark.sql import SparkSession\n",
        "\n",
        "# Create a new Spark session\n",
        "spark = SparkSession.builder.appName('Session').getOrCreate()\n"
      ]
    },
    {
      "cell_type": "code",
      "execution_count": 117,
      "metadata": {
        "colab": {
          "base_uri": "https://localhost:8080/"
        },
        "id": "97Sfi5DZT6ts",
        "outputId": "58ae6324-1066-4040-fb6b-4eeb14953eb1"
      },
      "outputs": [
        {
          "data": {
            "text/html": [
              "\n",
              "            <div>\n",
              "                <p><b>SparkSession - in-memory</b></p>\n",
              "                \n",
              "        <div>\n",
              "            <p><b>SparkContext</b></p>\n",
              "\n",
              "            <p><a href=\"http://127.0.0.1:4040\">Spark UI</a></p>\n",
              "\n",
              "            <dl>\n",
              "              <dt>Version</dt>\n",
              "                <dd><code>v3.3.2</code></dd>\n",
              "              <dt>Master</dt>\n",
              "                <dd><code>local[*]</code></dd>\n",
              "              <dt>AppName</dt>\n",
              "                <dd><code>pyspark-shell</code></dd>\n",
              "            </dl>\n",
              "        </div>\n",
              "        \n",
              "            </div>\n",
              "        "
            ],
            "text/plain": [
              "<pyspark.sql.session.SparkSession at 0x7f671100cb80>"
            ]
          },
          "execution_count": 117,
          "metadata": {},
          "output_type": "execute_result"
        }
      ],
      "source": [
        "# Spark Created\n",
        "spark"
      ]
    },
    {
      "cell_type": "code",
      "execution_count": 118,
      "metadata": {
        "id": "xxiTFSkhT6tt"
      },
      "outputs": [
        {
          "name": "stderr",
          "output_type": "stream",
          "text": [
            "                                                                                \r"
          ]
        }
      ],
      "source": [
        "# Load CSV file \n",
        "# Limit the CSV to 10000 as per lecturers instruction\n",
        "df_pyspark_full = spark.read.csv('training.1600000.processed.noemoticon.csv', header=False, inferSchema=True)\n",
        "sample_size = 10000"
      ]
    },
    {
      "cell_type": "code",
      "execution_count": 119,
      "metadata": {
        "id": "U2Pge3VdT6tt"
      },
      "outputs": [],
      "source": [
        "# Sample the dataset to get the desired number of rows\n",
        "df_pyspark = df_pyspark_full.sample(False, sample_size / df_pyspark_full.count(), seed=42)"
      ]
    },
    {
      "cell_type": "code",
      "execution_count": 120,
      "metadata": {
        "colab": {
          "base_uri": "https://localhost:8080/"
        },
        "id": "oXFG4iz-T6tt",
        "outputId": "d4a7fc46-fdb3-43b9-c3f5-dbb6ef86529c"
      },
      "outputs": [
        {
          "name": "stdout",
          "output_type": "stream",
          "text": [
            "+---+----------+--------------------+--------+---------------+--------------------+\n",
            "|_c0|       _c1|                 _c2|     _c3|            _c4|                 _c5|\n",
            "+---+----------+--------------------+--------+---------------+--------------------+\n",
            "|  0|1467876133|Mon Apr 06 22:36:...|NO_QUERY|     benboarder|has lost his ring...|\n",
            "|  0|1467892945|Mon Apr 06 22:41:...|NO_QUERY|colorful_kelsey|Poor Joshy is sic...|\n",
            "|  0|1467988612|Mon Apr 06 23:08:...|NO_QUERY|   jackdanielzz|@ikimb0 i just se...|\n",
            "|  0|1468106339|Mon Apr 06 23:44:...|NO_QUERY|         Syph0n|Ugh. still workin...|\n",
            "|  0|1468107957|Mon Apr 06 23:45:...|NO_QUERY|CuriousLifeofGA|I totally forgot ...|\n",
            "|  0|1468146486|Mon Apr 06 23:58:...|NO_QUERY|         nrgins|@Coll_aka_Aubrey ...|\n",
            "|  0|1468157393|Tue Apr 07 00:01:...|NO_QUERY|      aybeesees|  i &lt;3 CIGS..RIP |\n",
            "|  0|1468203079|Tue Apr 07 00:16:...|NO_QUERY|       lana1711|Has a huge headac...|\n",
            "|  0|1468210976|Tue Apr 07 00:19:...|NO_QUERY|  mizcupcakekid|Going to sleep no...|\n",
            "|  0|1468211474|Tue Apr 07 00:19:...|NO_QUERY| ramdomthoughts|@OscarTG Morning....|\n",
            "|  0|1468216087|Tue Apr 07 00:20:...|NO_QUERY|    robcthegeek|Perfectly ripe an...|\n",
            "|  0|1468243314|Tue Apr 07 00:30:...|NO_QUERY|StarButterfly07|Haven't tweeted i...|\n",
            "|  0|1468263722|Tue Apr 07 00:37:...|NO_QUERY| themainecanada|my dog is in my r...|\n",
            "|  0|1468304373|Tue Apr 07 00:51:...|NO_QUERY|   Suspiremedia|I think my email ...|\n",
            "|  0|1468363821|Tue Apr 07 01:13:...|NO_QUERY|         Astroy|I'm ill....i don'...|\n",
            "|  0|1468390269|Tue Apr 07 01:22:...|NO_QUERY|      Grinstead|I've got such a l...|\n",
            "|  0|1468400520|Tue Apr 07 01:26:...|NO_QUERY|         benzau|@jpiasentin Same,...|\n",
            "|  0|1468468898|Tue Apr 07 01:51:...|NO_QUERY| Lauraelizabeff|Babysitting This ...|\n",
            "|  0|1468522070|Tue Apr 07 02:10:...|NO_QUERY|   EwoutRommens|@cadelofficial ht...|\n",
            "|  0|1468557855|Tue Apr 07 02:24:...|NO_QUERY| karlkempobrien|Why does it take ...|\n",
            "+---+----------+--------------------+--------+---------------+--------------------+\n",
            "only showing top 20 rows\n",
            "\n"
          ]
        }
      ],
      "source": [
        "# Show Dataset\n",
        "df_pyspark.show()"
      ]
    },
    {
      "cell_type": "markdown",
      "metadata": {
        "id": "j5HtlZkiT6tu"
      },
      "source": [
        "### **Exploratory Data Analysis (EDA)**"
      ]
    },
    {
      "cell_type": "code",
      "execution_count": 121,
      "metadata": {
        "id": "aPFbFkeQT6tu"
      },
      "outputs": [],
      "source": [
        "# Data Preprocessing\n",
        "# Data Cleaning:\n",
        "# Visualisation"
      ]
    },
    {
      "cell_type": "markdown",
      "metadata": {
        "id": "7NAadA0mWctF"
      },
      "source": [
        "### **Data Preprocessing:**  "
      ]
    },
    {
      "cell_type": "code",
      "execution_count": 122,
      "metadata": {
        "colab": {
          "base_uri": "https://localhost:8080/"
        },
        "id": "2zmxK9eVT6tu",
        "outputId": "1139f4d8-3a59-4b11-a77a-0044a37215fb"
      },
      "outputs": [
        {
          "name": "stdout",
          "output_type": "stream",
          "text": [
            "root\n",
            " |-- _c0: integer (nullable = true)\n",
            " |-- _c1: long (nullable = true)\n",
            " |-- _c2: string (nullable = true)\n",
            " |-- _c3: string (nullable = true)\n",
            " |-- _c4: string (nullable = true)\n",
            " |-- _c5: string (nullable = true)\n",
            "\n"
          ]
        }
      ],
      "source": [
        "# ***************************************************************************************\n",
        "#    Title: Creating a PySpark DataFrame\n",
        "#    Author: GeeksforGeeks\n",
        "#    Date Published: 20 March 2024\n",
        "#    Date Retrieved: 25 August 2024\n",
        "#    Code version: 1\n",
        "#    Availability: https://www.geeksforgeeks.org/creating-a-pyspark-dataframe/\n",
        "#\n",
        "# ***************************************************************************************\n",
        "\n",
        "# Seeing the data types of each column\n",
        "df_pyspark.printSchema()"
      ]
    },
    {
      "cell_type": "code",
      "execution_count": 123,
      "metadata": {
        "colab": {
          "base_uri": "https://localhost:8080/"
        },
        "id": "S3D57VyPT6tu",
        "outputId": "ea52b1b4-45da-4dbd-b7f8-29077ef42e19"
      },
      "outputs": [
        {
          "name": "stderr",
          "output_type": "stream",
          "text": [
            "[Stage 6:>                                                          (0 + 8) / 8]\r"
          ]
        },
        {
          "name": "stdout",
          "output_type": "stream",
          "text": [
            "+-------+------------------+--------------------+--------------------+--------+---------+--------------------+\n",
            "|summary|               _c0|                 _c1|                 _c2|     _c3|      _c4|                 _c5|\n",
            "+-------+------------------+--------------------+--------------------+--------+---------+--------------------+\n",
            "|  count|             10046|               10046|               10046|   10046|    10046|               10046|\n",
            "|   mean| 2.006370694803902| 1.997019085878658E9|                null|    null|     null|                null|\n",
            "| stddev|2.0000894025695537|1.9482366319981962E8|                null|    null|     null|                null|\n",
            "|    min|                 0|          1467841077|Fri Apr 17 20:32:...|NO_QUERY|00Lucky00| @dreamingspires....|\n",
            "|    max|                 4|          2329178558|Wed May 27 07:21:...|NO_QUERY|zzzValzzz|�ou can have what...|\n",
            "+-------+------------------+--------------------+--------------------+--------+---------+--------------------+\n",
            "\n"
          ]
        },
        {
          "name": "stderr",
          "output_type": "stream",
          "text": [
            "                                                                                \r"
          ]
        }
      ],
      "source": [
        "# ***************************************************************************************\n",
        "#    Title: Creating a PySpark DataFrame\n",
        "#    Author: GeeksforGeeks\n",
        "#    Date Published: 20 March 2024\n",
        "#    Date Retrieved: 25 August 2024\n",
        "#    Code version: 1\n",
        "#    Availability: https://www.geeksforgeeks.org/creating-a-pyspark-dataframe/\n",
        "#\n",
        "# ***************************************************************************************\n",
        "\n",
        "# This displays dataframe information / values.\n",
        "df_pyspark.describe().show()"
      ]
    },
    {
      "cell_type": "code",
      "execution_count": 124,
      "metadata": {
        "colab": {
          "base_uri": "https://localhost:8080/"
        },
        "id": "mvCUyqV0T6tu",
        "outputId": "64cb7026-c599-4506-b5f7-d43abbb4b611"
      },
      "outputs": [
        {
          "data": {
            "text/plain": [
              "['_c0', '_c1', '_c2', '_c3', '_c4', '_c5']"
            ]
          },
          "execution_count": 124,
          "metadata": {},
          "output_type": "execute_result"
        }
      ],
      "source": [
        "# Column Names\n",
        "df_pyspark.columns"
      ]
    },
    {
      "cell_type": "code",
      "execution_count": 125,
      "metadata": {
        "colab": {
          "base_uri": "https://localhost:8080/"
        },
        "id": "PMBs06XMT6tu",
        "outputId": "49eae78b-f47b-45c1-ebb3-7d05a5121d16"
      },
      "outputs": [
        {
          "name": "stdout",
          "output_type": "stream",
          "text": [
            "Number of columns: 6\n"
          ]
        }
      ],
      "source": [
        "# Column Counting\n",
        "column_count = len(df_pyspark.columns)\n",
        "print(\"Number of columns:\", column_count)"
      ]
    },
    {
      "cell_type": "code",
      "execution_count": 126,
      "metadata": {
        "colab": {
          "base_uri": "https://localhost:8080/"
        },
        "id": "iBUUqW3XT6tv",
        "outputId": "4f4df849-111f-42c6-b496-3a76ece9dd0f"
      },
      "outputs": [
        {
          "name": "stdout",
          "output_type": "stream",
          "text": [
            "Number of rows: 10046\n"
          ]
        }
      ],
      "source": [
        "# Row Counting\n",
        "row_count = df_pyspark.count()\n",
        "print(\"Number of rows:\", row_count)"
      ]
    },
    {
      "cell_type": "markdown",
      "metadata": {
        "id": "1rIT0Zc8WOAn"
      },
      "source": [
        "### **Data Cleaning**"
      ]
    },
    {
      "cell_type": "code",
      "execution_count": 127,
      "metadata": {
        "id": "_wN90-_oT6tv"
      },
      "outputs": [],
      "source": [
        "# Data Cleaning:\n",
        "# Dropping, and leaving necessary columns\n",
        "df_pyspark = df_pyspark.select(\"_c0\", \"_c5\")"
      ]
    },
    {
      "cell_type": "code",
      "execution_count": 128,
      "metadata": {
        "colab": {
          "base_uri": "https://localhost:8080/"
        },
        "id": "4fSrGm0AT6tv",
        "outputId": "67f03236-17c9-4282-adf7-728a6eb71090"
      },
      "outputs": [
        {
          "name": "stdout",
          "output_type": "stream",
          "text": [
            "+---+--------------------+\n",
            "|_c0|                 _c5|\n",
            "+---+--------------------+\n",
            "|  0|has lost his ring...|\n",
            "|  0|Poor Joshy is sic...|\n",
            "|  0|@ikimb0 i just se...|\n",
            "|  0|Ugh. still workin...|\n",
            "|  0|I totally forgot ...|\n",
            "|  0|@Coll_aka_Aubrey ...|\n",
            "|  0|  i &lt;3 CIGS..RIP |\n",
            "|  0|Has a huge headac...|\n",
            "|  0|Going to sleep no...|\n",
            "|  0|@OscarTG Morning....|\n",
            "|  0|Perfectly ripe an...|\n",
            "|  0|Haven't tweeted i...|\n",
            "|  0|my dog is in my r...|\n",
            "|  0|I think my email ...|\n",
            "|  0|I'm ill....i don'...|\n",
            "|  0|I've got such a l...|\n",
            "|  0|@jpiasentin Same,...|\n",
            "|  0|Babysitting This ...|\n",
            "|  0|@cadelofficial ht...|\n",
            "|  0|Why does it take ...|\n",
            "+---+--------------------+\n",
            "only showing top 20 rows\n",
            "\n"
          ]
        }
      ],
      "source": [
        "# Checking new Dataset with the 2 remaining column\n",
        "df_pyspark.show()"
      ]
    },
    {
      "cell_type": "code",
      "execution_count": 129,
      "metadata": {
        "id": "R0dcf7IZT6tv"
      },
      "outputs": [],
      "source": [
        "# Renaming Columns\n",
        "# Rename column c0 to 'target'\n",
        "df_pyspark = df_pyspark.withColumnRenamed(\"_c0\", \"Target\")\n",
        "\n",
        "# Rename column c1 to 'text'\n",
        "df_pyspark = df_pyspark.withColumnRenamed(\"_c5\", \"Text\")"
      ]
    },
    {
      "cell_type": "code",
      "execution_count": 130,
      "metadata": {
        "colab": {
          "base_uri": "https://localhost:8080/"
        },
        "id": "fN60bZjbT6tv",
        "outputId": "60c9cfbe-96d0-4fc7-b78e-5c4e46cc6bc6"
      },
      "outputs": [
        {
          "name": "stdout",
          "output_type": "stream",
          "text": [
            "+------+--------------------+\n",
            "|Target|                Text|\n",
            "+------+--------------------+\n",
            "|     0|has lost his ring...|\n",
            "|     0|Poor Joshy is sic...|\n",
            "|     0|@ikimb0 i just se...|\n",
            "|     0|Ugh. still workin...|\n",
            "|     0|I totally forgot ...|\n",
            "|     0|@Coll_aka_Aubrey ...|\n",
            "|     0|  i &lt;3 CIGS..RIP |\n",
            "|     0|Has a huge headac...|\n",
            "|     0|Going to sleep no...|\n",
            "|     0|@OscarTG Morning....|\n",
            "|     0|Perfectly ripe an...|\n",
            "|     0|Haven't tweeted i...|\n",
            "|     0|my dog is in my r...|\n",
            "|     0|I think my email ...|\n",
            "|     0|I'm ill....i don'...|\n",
            "|     0|I've got such a l...|\n",
            "|     0|@jpiasentin Same,...|\n",
            "|     0|Babysitting This ...|\n",
            "|     0|@cadelofficial ht...|\n",
            "|     0|Why does it take ...|\n",
            "+------+--------------------+\n",
            "only showing top 20 rows\n",
            "\n",
            "root\n",
            " |-- Target: integer (nullable = true)\n",
            " |-- Text: string (nullable = true)\n",
            "\n"
          ]
        }
      ],
      "source": [
        "# Seeing the dataset with the newly renamed columns\n",
        "df_pyspark.show()\n",
        "\n",
        "df_pyspark.printSchema()"
      ]
    },
    {
      "cell_type": "code",
      "execution_count": 131,
      "metadata": {
        "id": "HSaXZO1RT6t1"
      },
      "outputs": [],
      "source": [
        "# Drop rows with null values in any column\n",
        "df_pyspark = df_pyspark.na.drop()\n",
        "\n",
        "# Drop duplicate rows in the entire DataFrame\n",
        "df_pyspark = df_pyspark.dropDuplicates()"
      ]
    },
    {
      "cell_type": "code",
      "execution_count": 132,
      "metadata": {
        "colab": {
          "base_uri": "https://localhost:8080/"
        },
        "id": "36q04NDxT6t2",
        "outputId": "59d5f7f2-b890-4c94-e8ee-4e5a8d05c805"
      },
      "outputs": [
        {
          "name": "stderr",
          "output_type": "stream",
          "text": [
            "[Stage 14:>                                                         (0 + 8) / 8]\r"
          ]
        },
        {
          "name": "stdout",
          "output_type": "stream",
          "text": [
            "Number of rows: 10044\n"
          ]
        },
        {
          "name": "stderr",
          "output_type": "stream",
          "text": [
            "                                                                                \r"
          ]
        }
      ],
      "source": [
        "# Checking the new number of rows\n",
        "row_count = df_pyspark.count()\n",
        "print(\"Number of rows:\", row_count)"
      ]
    },
    {
      "cell_type": "code",
      "execution_count": 133,
      "metadata": {
        "colab": {
          "base_uri": "https://localhost:8080/"
        },
        "id": "EEWrxX6rT6t2",
        "outputId": "df398942-227c-43a1-f0db-5e38bc3c55a8"
      },
      "outputs": [
        {
          "data": {
            "text/plain": [
              "[('Target', 'int'), ('Text', 'string')]"
            ]
          },
          "execution_count": 133,
          "metadata": {},
          "output_type": "execute_result"
        }
      ],
      "source": [
        "# Datadrame Data Types\n",
        "df_pyspark.dtypes"
      ]
    },
    {
      "cell_type": "code",
      "execution_count": 134,
      "metadata": {
        "colab": {
          "base_uri": "https://localhost:8080/"
        },
        "id": "yCogQoSeYht3",
        "outputId": "0821a603-5c8e-4a34-ea5f-0908f6de4ce9"
      },
      "outputs": [
        {
          "name": "stderr",
          "output_type": "stream",
          "text": [
            "                                                                                \r"
          ]
        },
        {
          "name": "stdout",
          "output_type": "stream",
          "text": [
            "       Target                                               Text\n",
            "0           0                            @shari ??? ????? ????? \n",
            "1           0  I don't feel like doing ANYTHING when I'm sick...\n",
            "2           0  I'm in wales, it isn't the nice weather that i...\n",
            "3           0  @laikas Yes must take it out of profile - must...\n",
            "4           0  @taylormcfly First ones a week today and its c...\n",
            "...       ...                                                ...\n",
            "10039       4                       diggin on neil diamonds hit \n",
            "10040       4               @Bncngoffthwlls thank you very much \n",
            "10041       4  @mozwold Haha! No! This is a good mood! I woul...\n",
            "10042       4  buy my stuff: http://tinyurl.com/mm5ntd please...\n",
            "10043       4  @cynthiasisina That makes sense. &amp; Thank y...\n",
            "\n",
            "[10044 rows x 2 columns]\n"
          ]
        }
      ],
      "source": [
        "# Convert PySpark DataFrame to Pandas for future Keras preprocessing\n",
        "df_pandas = df_pyspark.toPandas()\n",
        "# Display Pandas Dataframe\n",
        "print(df_pandas)"
      ]
    },
    {
      "cell_type": "markdown",
      "metadata": {
        "id": "zkydjYYIW7Gy"
      },
      "source": [
        "### **Data Visualisation**"
      ]
    },
    {
      "cell_type": "code",
      "execution_count": 135,
      "metadata": {
        "colab": {
          "base_uri": "https://localhost:8080/"
        },
        "id": "aJG9h3zrXDrj",
        "outputId": "e4c61079-d5ce-47ad-dc7f-d86234df0a89"
      },
      "outputs": [
        {
          "data": {
            "image/png": "[encoded data removed]",
            "text/plain": [
              "<Figure size 432x288 with 1 Axes>"
            ]
          },
          "metadata": {
            "needs_background": "light"
          },
          "output_type": "display_data"
        }
      ],
      "source": [
        "# ***************************************************************************************\n",
        "#    Title: Seaborn Heatmap – A comprehensive guide\n",
        "#    Author: GeeksforGeeks\n",
        "#    Date Published: 12 November 2020\n",
        "#    Date Retrieved: 27 August 2024\n",
        "#    Code version: 1\n",
        "#    Availability: https://www.geeksforgeeks.org/seaborn-heatmap-a-comprehensive-guide/\n",
        "#\n",
        "# ***************************************************************************************\n",
        "\n",
        "# For Data Visualization, a heatmap has been provided.\n",
        "# Since there should be no null values, it would be a solid colour to indicate nothing to show.\n",
        "sns.heatmap(df_pandas.isnull(), cbar=False, cmap='viridis')\n",
        "plt.show()"
      ]
    },
    {
      "cell_type": "markdown",
      "metadata": {
        "id": "KqjBvQbeaWAF"
      },
      "source": [
        "## **2) LSTM Model:**  "
      ]
    },
    {
      "cell_type": "markdown",
      "metadata": {
        "id": "XI0jd407bgKL"
      },
      "source": [
        "### **Develop the Model:**  "
      ]
    },
    {
      "cell_type": "code",
      "execution_count": 136,
      "metadata": {
        "colab": {
          "base_uri": "https://localhost:8080/"
        },
        "id": "YtsBadyXTk1n",
        "outputId": "a012043c-5132-48bd-889d-967668d52034"
      },
      "outputs": [
        {
          "name": "stdout",
          "output_type": "stream",
          "text": [
            "Requirement already satisfied: Keras-Preprocessing in ./anaconda3/lib/python3.9/site-packages (1.1.2)\n",
            "Requirement already satisfied: six>=1.9.0 in ./anaconda3/lib/python3.9/site-packages (from Keras-Preprocessing) (1.16.0)\n",
            "Requirement already satisfied: numpy>=1.9.1 in ./anaconda3/lib/python3.9/site-packages (from Keras-Preprocessing) (1.24.3)\n"
          ]
        }
      ],
      "source": [
        "!pip install Keras-Preprocessing"
      ]
    },
    {
      "cell_type": "code",
      "execution_count": 137,
      "metadata": {
        "colab": {
          "base_uri": "https://localhost:8080/",
          "height": 383
        },
        "id": "ew5ZzTdSSvLq",
        "outputId": "56b68202-5433-4bc4-a5b8-57f8ea0991af"
      },
      "outputs": [],
      "source": [
        "# Installing more libraries\n",
        "from pyspark.sql import SparkSession\n",
        "from pyspark.sql.functions import col, when\n",
        "import matplotlib.pyplot as plt\n",
        "import seaborn as sns\n",
        "import numpy as np\n",
        "from sklearn.metrics import accuracy_score, confusion_matrix\n",
        "from keras.models import Sequential\n",
        "from keras.layers import Embedding, LSTM, Dense\n",
        "from keras.preprocessing.text import Tokenizer\n",
        "from keras.preprocessing.sequence import pad_sequences\n",
        "from keras.callbacks import EarlyStopping"
      ]
    },
    {
      "cell_type": "markdown",
      "metadata": {},
      "source": [
        "### **Convert PySpark to Pandas:**  "
      ]
    },
    {
      "cell_type": "code",
      "execution_count": 138,
      "metadata": {
        "id": "WUlIA6hCSvHo"
      },
      "outputs": [],
      "source": [
        "# Convert PySpark DataFrame to Pandas for Keras preprocessing\n",
        "df_pandas = df_pyspark.toPandas()"
      ]
    },
    {
      "cell_type": "markdown",
      "metadata": {},
      "source": [
        "### **Keras Tokenizer:**  "
      ]
    },
    {
      "cell_type": "code",
      "execution_count": 139,
      "metadata": {
        "id": "A2RHvTN0SvD5"
      },
      "outputs": [],
      "source": [
        "# ***************************************************************************************\n",
        "#    Title: Tokenizer Class Arguments with example\n",
        "#    Author: Akash Deep\n",
        "#    Date Published: 22 August 2020\n",
        "#    Date Retrieved: 02 September 2024\n",
        "#    Code version: 1\n",
        "#    Availability: https://medium.com/analytics-vidhya/understanding-nlp-keras-tokenizer-class-arguments-with-example-551c100f0cbd\n",
        "#\n",
        "# ***************************************************************************************\n",
        "\n",
        "# Tokenize text using Keras Tokenizer\n",
        "# Maximum number of words in the vocabulary will be 10000\n",
        "# Maximum sequence length for LSTM will be 50\n",
        "max_words = 10000 \n",
        "max_sequence_length = 50 \n",
        "\n",
        "tokenizer = Tokenizer(num_words=max_words)\n",
        "tokenizer.fit_on_texts(df_pandas['Text'])\n",
        "\n",
        "sequences = tokenizer.texts_to_sequences(df_pandas['Text'])\n",
        "X = pad_sequences(sequences, maxlen=max_sequence_length)\n",
        "y = np.array(df_pandas['Target'])"
      ]
    },
    {
      "cell_type": "markdown",
      "metadata": {},
      "source": [
        "### **Split: Training and Testing sets:**  "
      ]
    },
    {
      "cell_type": "code",
      "execution_count": 140,
      "metadata": {
        "id": "v4bEh9XdSvAb"
      },
      "outputs": [],
      "source": [
        "# ***************************************************************************************\n",
        "#    Title: Machine Learning - Train/Test\n",
        "#    Author: W3Schools\n",
        "#    Date Published: 2024\n",
        "#    Date Retrieved: 03 September 2024\n",
        "#    Code version: 1\n",
        "#    Availability: https://www.w3schools.com/python/python_ml_train_test.asp\n",
        "#\n",
        "# ***************************************************************************************\n",
        "\n",
        "# Split the dataset into training and testing sets\n",
        "train_size = int(0.8 * len(X))\n",
        "X_train, X_test = X[:train_size], X[train_size:]\n",
        "y_train, y_test = y[:train_size], y[train_size:]"
      ]
    },
    {
      "cell_type": "code",
      "execution_count": 141,
      "metadata": {
        "id": "n5DxkFDzSu9U"
      },
      "outputs": [],
      "source": [
        "# Define the Keras-based LSTM model\n",
        "model = Sequential()\n",
        "model.add(Embedding(input_dim=max_words, output_dim=100, input_length=max_sequence_length))\n",
        "model.add(LSTM(128))\n",
        "model.add(Dense(1, activation='sigmoid'))"
      ]
    },
    {
      "cell_type": "code",
      "execution_count": 142,
      "metadata": {
        "id": "GHWQKow9Su6B"
      },
      "outputs": [],
      "source": [
        "# Compile the model\n",
        "model.compile(optimizer='adam', loss='binary_crossentropy', metrics=['accuracy'])\n",
        "\n",
        "# Define early stopping callback\n",
        "early_stopping = EarlyStopping(monitor='val_loss', patience=1, restore_best_weights=True)"
      ]
    },
    {
      "cell_type": "markdown",
      "metadata": {},
      "source": [
        "### **Train the Model:**  "
      ]
    },
    {
      "cell_type": "code",
      "execution_count": 143,
      "metadata": {
        "id": "Oat1H8CVSu2i"
      },
      "outputs": [
        {
          "name": "stdout",
          "output_type": "stream",
          "text": [
            "Epoch 1/3\n"
          ]
        },
        {
          "name": "stdout",
          "output_type": "stream",
          "text": [
            "16/16 [==============================] - 5s 191ms/step - loss: -1.1768 - accuracy: 0.0214 - val_loss: -23.6095 - val_accuracy: 0.0000e+00\n",
            "Epoch 2/3\n",
            "16/16 [==============================] - 3s 163ms/step - loss: -5.6312 - accuracy: 0.0000e+00 - val_loss: -42.2602 - val_accuracy: 0.0000e+00\n",
            "Epoch 3/3\n",
            "16/16 [==============================] - 3s 160ms/step - loss: -8.0431 - accuracy: 0.0000e+00 - val_loss: -52.4272 - val_accuracy: 0.0000e+00\n"
          ]
        }
      ],
      "source": [
        "# ***************************************************************************************\n",
        "#    Title: Machine Learning - Train/Test\n",
        "#    Author: W3Schools\n",
        "#    Date Published: 2024\n",
        "#    Date Retrieved: 03 September 2024\n",
        "#    Code version: 1\n",
        "#    Availability: https://www.w3schools.com/python/python_ml_train_test.asp\n",
        "#\n",
        "# ***************************************************************************************\n",
        "\n",
        "# Train the model with early stopping\n",
        "history = model.fit(X_train, y_train, epochs=3, batch_size=512, validation_data=(X_test, y_test), callbacks=[early_stopping])"
      ]
    },
    {
      "cell_type": "markdown",
      "metadata": {
        "id": "Rd6LePzibb4l"
      },
      "source": [
        "## **3) Evaluation and Performance of the Model:**  "
      ]
    },
    {
      "cell_type": "markdown",
      "metadata": {
        "id": "vCKO8b9fcGnK"
      },
      "source": [
        "### **Making Predictions:**  "
      ]
    },
    {
      "cell_type": "code",
      "execution_count": 144,
      "metadata": {
        "id": "dUXnsc8Ablgo"
      },
      "outputs": [
        {
          "name": "stdout",
          "output_type": "stream",
          "text": [
            "63/63 [==============================] - 1s 10ms/step\n"
          ]
        }
      ],
      "source": [
        "# Make predictions\n",
        "y_pred = model.predict(X_test)\n",
        "y_pred_binary = (y_pred > 0.5).astype(int)"
      ]
    },
    {
      "cell_type": "markdown",
      "metadata": {
        "id": "I44Mny57cHB_"
      },
      "source": [
        "### **Calculating Accuracy:**  "
      ]
    },
    {
      "cell_type": "code",
      "execution_count": 145,
      "metadata": {
        "id": "VZH5oUDHcCuN"
      },
      "outputs": [
        {
          "name": "stdout",
          "output_type": "stream",
          "text": [
            "Accuracy: 0.0\n"
          ]
        }
      ],
      "source": [
        "# Calculate accuracy\n",
        "accuracy = accuracy_score(y_test, y_pred_binary)\n",
        "print(f\"Accuracy: {accuracy}\")"
      ]
    },
    {
      "cell_type": "markdown",
      "metadata": {
        "id": "iqLqdrxobsCO"
      },
      "source": [
        "## **4) Model Visualization:**  "
      ]
    },
    {
      "cell_type": "markdown",
      "metadata": {},
      "source": [
        "### **Visualize training process by plotting accuracy and loss metrics**"
      ]
    },
    {
      "cell_type": "code",
      "execution_count": 146,
      "metadata": {
        "id": "vCWsD9SrcbzP"
      },
      "outputs": [
        {
          "data": {
            "image/png": "[encoded data removed]",
            "text/plain": [
              "<Figure size 864x288 with 2 Axes>"
            ]
          },
          "metadata": {
            "needs_background": "light"
          },
          "output_type": "display_data"
        }
      ],
      "source": [
        "# ***************************************************************************************\n",
        "#    Title: Line chart in Matplotlib – Python\n",
        "#    Author: GeeksforGeeks\n",
        "#    Date Published: 13 August 2024\n",
        "#    Date Retrieved: 05 September 2024\n",
        "#    Code version: 1\n",
        "#    Availability: https://www.geeksforgeeks.org/line-chart-in-matplotlib-python/\n",
        "#\n",
        "# ***************************************************************************************\n",
        "\n",
        "# Visualize training process by plotting accuracy and loss metrics\n",
        "fig, axes = plt.subplots(nrows=1, ncols=2, figsize=(12, 4))\n",
        "\n",
        "# Plot accuracy\n",
        "axes[0].plot(history.history['accuracy'], label='Train Accuracy', color='blue')\n",
        "axes[0].plot(history.history['val_accuracy'], label='Visualize Accuracy', color='orange')\n",
        "axes[0].set_title('Accuracy over Epochs')\n",
        "axes[0].set_xlabel('Epoch')\n",
        "axes[0].set_ylabel('Accuracy')\n",
        "axes[0].legend()\n",
        "\n",
        "# Plot loss\n",
        "axes[1].plot(history.history['loss'], label='Train Loss', color='green')\n",
        "axes[1].plot(history.history['val_loss'], label='Visualize Loss', color='red')\n",
        "axes[1].set_title('Loss over Epochs')\n",
        "axes[1].set_xlabel('Epoch')\n",
        "axes[1].set_ylabel('Loss')\n",
        "axes[1].legend()\n",
        "\n",
        "plt.tight_layout()\n",
        "plt.show()"
      ]
    },
    {
      "cell_type": "code",
      "execution_count": 147,
      "metadata": {},
      "outputs": [],
      "source": [
        "# Clean code by stopping Spark\n",
        "spark.stop()"
      ]
    }
  ],
  "metadata": {
    "colab": {
      "collapsed_sections": [
        "knuXDfpPT6tU",
        "rgNrwm4YT6tk",
        "PD3U27FaT6tl",
        "NbPXmI-vT6tm",
        "n5rcl_BfT6to",
        "apWdOaoYUkXs",
        "j5HtlZkiT6tu",
        "7NAadA0mWctF",
        "1rIT0Zc8WOAn",
        "zkydjYYIW7Gy",
        "Rd6LePzibb4l",
        "iqLqdrxobsCO",
        "xgLmi6bdT6to"
      ],
      "provenance": []
    },
    "kernelspec": {
      "display_name": "base",
      "language": "python",
      "name": "python3"
    },
    "language_info": {
      "codemirror_mode": {
        "name": "ipython",
        "version": 3
      },
      "file_extension": ".py",
      "mimetype": "text/x-python",
      "name": "python",
      "nbconvert_exporter": "python",
      "pygments_lexer": "ipython3",
      "version": "3.9.7"
    }
  },
  "nbformat": 4,
  "nbformat_minor": 0
}
